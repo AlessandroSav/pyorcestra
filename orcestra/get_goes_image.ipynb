{
 "cells": [
  {
   "cell_type": "code",
   "execution_count": 1,
   "metadata": {},
   "outputs": [
    {
     "name": "stdout",
     "output_type": "stream",
     "text": [
      "Snapshot saved as ../goes_figures/2024-09-23T18:25:00Z_5-6020-40_GOES-East_ABI_Band2_Red_Visible_1km.jpg\n"
     ]
    }
   ],
   "source": [
    "from orcestra import sat\n",
    "sat.goes_snapshot(time='2024-09-23T18:25:00Z', layer_type='r_vis',bbox=\"5,-60,20,-40\", folder_path='../goes_figures')"
   ]
  },
  {
   "cell_type": "code",
   "execution_count": null,
   "metadata": {},
   "outputs": [],
   "source": []
  }
 ],
 "metadata": {
  "kernelspec": {
   "display_name": "orcestra_book",
   "language": "python",
   "name": "python3"
  },
  "language_info": {
   "codemirror_mode": {
    "name": "ipython",
    "version": 3
   },
   "file_extension": ".py",
   "mimetype": "text/x-python",
   "name": "python",
   "nbconvert_exporter": "python",
   "pygments_lexer": "ipython3",
   "version": "3.12.0"
  }
 },
 "nbformat": 4,
 "nbformat_minor": 2
}
