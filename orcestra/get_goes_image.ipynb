{
 "cells": [
  {
   "cell_type": "code",
   "execution_count": 1,
   "metadata": {},
   "outputs": [
    {
     "name": "stdout",
     "output_type": "stream",
     "text": [
      "Snapshot saved as ../goes_figures/2024-09-23T18:25:00Z_5-6020-40_GOES-East_ABI_Band2_Red_Visible_1km.jpg\n"
     ]
    }
   ],
   "source": [
    "from orcestra import sat\n",
    "sat.goes_snapshot(time='2024-09-23T18:25:00Z', layer_type='r_vis',bbox=\"5,-60,20,-40\", folder_path='../goes_figures')"
   ]
  },
  {
   "cell_type": "code",
   "execution_count": 2,
   "metadata": {},
   "outputs": [],
   "source": [
    "import warnings\n",
    "import fsspec\n",
    "import requests\n",
    "import re\n",
    "import numpy as np\n",
    "import os\n",
    "import xarray as xr\n",
    "import pandas as pd\n",
    "from functools import lru_cache\n",
    "from io import StringIO\n",
    "def modis_snapshot(time: str, layer_type: str,bbox=\"51.16,3.312,53.32,5.8\", folder_path: str = None):\n",
    "    \"\"\"\n",
    "    Downloads a GOES snapshot from NASA Worldview and saves it to a file.\n",
    "\n",
    "    :param time: The timestamp in ISO format (e.g., '2024-09-19T06:00:00Z').\n",
    "    :param layer_type: The layer type, 'vis' for visible or 'inf' for infrared.\n",
    "    :param folder_path: Optional path to the folder where the file should be saved. If not provided, saves in the current directory.\n",
    "    \"\"\"\n",
    "\n",
    "    if layer_type == \"terra\":\n",
    "        layer = \"MODIS_Terra_CorrectedReflectance_TrueColor\"\n",
    "    elif layer_type == \"aqua\":\n",
    "        layer = \"MODIS_Aqua_CorrectedReflectance_TrueColor\"\n",
    "    else:\n",
    "        raise ValueError(\n",
    "            \"Invalid option for layer. Use 'terra' or 'aqua' for visible or 'inf' for infrared.\"\n",
    "        )\n",
    "\n",
    "    # url = f\"https://wvs.earthdata.nasa.gov/api/v1/snapshot?REQUEST=GetSnapshot&TIME={time}&BBOX={bbox}&CRS=EPSG:4326&LAYERS={layer},Coastlines_15m&WRAP=x,x&FORMAT=image/jpeg&WIDTH=876&HEIGHT=652&ts=1725710721315\"\n",
    "    url = f\"https://wvs.earthdata.nasa.gov/api/v1/snapshot?REQUEST=GetSnapshot&TIME={time}&BBOX={bbox}&CRS=EPSG:4326&LAYERS={layer},Coastlines_15m,Reference_Labels_15m&WRAP=day,x,x&FORMAT=image/jpeg&WIDTH=567&HEIGHT=494&MARKER=4.8986,51.9642&ts=1728655157515\"\n",
    "\n",
    "    filename = f\"{time}_{bbox}_{layer}.jpg\".replace(\",\", \"\")\n",
    "\n",
    "    if folder_path:\n",
    "        os.makedirs(folder_path, exist_ok=True)\n",
    "        filename = os.path.join(folder_path, filename)\n",
    "\n",
    "    response = requests.get(url)\n",
    "\n",
    "    if response.status_code == 200:\n",
    "        with open(filename, \"wb\") as f:\n",
    "            f.write(response.content)\n",
    "        print(f\"Snapshot saved as {filename}\")\n",
    "    else:\n",
    "        print(f\"Failed to retrieve snapshot: {response.status_code}, {response.reason}\")\n"
   ]
  },
  {
   "cell_type": "code",
   "execution_count": 4,
   "metadata": {},
   "outputs": [
    {
     "name": "stdout",
     "output_type": "stream",
     "text": [
      "Snapshot saved as ../../../figures/2021-09-14T00:00:00Z_51.15733.312553.32635.8048_MODIS_Terra_CorrectedReflectance_TrueColor.jpg\n"
     ]
    }
   ],
   "source": [
    "for day in \n",
    "modis_snapshot(time='2021-09-14T00:00:00Z', layer_type='terra',bbox=\"51.1573,3.3125,53.3263,5.8048\", folder_path='../../../figures')"
   ]
  },
  {
   "cell_type": "code",
   "execution_count": 9,
   "metadata": {},
   "outputs": [
    {
     "name": "stdout",
     "output_type": "stream",
     "text": [
      "Snapshot saved as ../../../figures/2021-9-13T00:00:00Z_51.15733.312553.32635.8048_MODIS_Aqua_CorrectedReflectance_TrueColor.jpg\n",
      "Snapshot saved as ../../../figures/2021-9-14T00:00:00Z_51.15733.312553.32635.8048_MODIS_Aqua_CorrectedReflectance_TrueColor.jpg\n",
      "Snapshot saved as ../../../figures/2021-9-15T00:00:00Z_51.15733.312553.32635.8048_MODIS_Aqua_CorrectedReflectance_TrueColor.jpg\n",
      "Snapshot saved as ../../../figures/2021-9-16T00:00:00Z_51.15733.312553.32635.8048_MODIS_Aqua_CorrectedReflectance_TrueColor.jpg\n",
      "Snapshot saved as ../../../figures/2021-9-17T00:00:00Z_51.15733.312553.32635.8048_MODIS_Aqua_CorrectedReflectance_TrueColor.jpg\n",
      "Snapshot saved as ../../../figures/2021-9-18T00:00:00Z_51.15733.312553.32635.8048_MODIS_Aqua_CorrectedReflectance_TrueColor.jpg\n",
      "Snapshot saved as ../../../figures/2021-9-19T00:00:00Z_51.15733.312553.32635.8048_MODIS_Aqua_CorrectedReflectance_TrueColor.jpg\n",
      "Snapshot saved as ../../../figures/2021-9-20T00:00:00Z_51.15733.312553.32635.8048_MODIS_Aqua_CorrectedReflectance_TrueColor.jpg\n",
      "Snapshot saved as ../../../figures/2021-9-21T00:00:00Z_51.15733.312553.32635.8048_MODIS_Aqua_CorrectedReflectance_TrueColor.jpg\n",
      "Snapshot saved as ../../../figures/2021-9-22T00:00:00Z_51.15733.312553.32635.8048_MODIS_Aqua_CorrectedReflectance_TrueColor.jpg\n",
      "Snapshot saved as ../../../figures/2021-9-23T00:00:00Z_51.15733.312553.32635.8048_MODIS_Aqua_CorrectedReflectance_TrueColor.jpg\n",
      "Snapshot saved as ../../../figures/2021-9-24T00:00:00Z_51.15733.312553.32635.8048_MODIS_Aqua_CorrectedReflectance_TrueColor.jpg\n",
      "Snapshot saved as ../../../figures/2021-9-25T00:00:00Z_51.15733.312553.32635.8048_MODIS_Aqua_CorrectedReflectance_TrueColor.jpg\n",
      "Snapshot saved as ../../../figures/2021-9-26T00:00:00Z_51.15733.312553.32635.8048_MODIS_Aqua_CorrectedReflectance_TrueColor.jpg\n",
      "Snapshot saved as ../../../figures/2021-9-27T00:00:00Z_51.15733.312553.32635.8048_MODIS_Aqua_CorrectedReflectance_TrueColor.jpg\n",
      "Snapshot saved as ../../../figures/2021-9-28T00:00:00Z_51.15733.312553.32635.8048_MODIS_Aqua_CorrectedReflectance_TrueColor.jpg\n",
      "Snapshot saved as ../../../figures/2021-9-29T00:00:00Z_51.15733.312553.32635.8048_MODIS_Aqua_CorrectedReflectance_TrueColor.jpg\n",
      "Snapshot saved as ../../../figures/2021-9-30T00:00:00Z_51.15733.312553.32635.8048_MODIS_Aqua_CorrectedReflectance_TrueColor.jpg\n",
      "Snapshot saved as ../../../figures/2021-10-1T00:00:00Z_51.15733.312553.32635.8048_MODIS_Aqua_CorrectedReflectance_TrueColor.jpg\n",
      "Snapshot saved as ../../../figures/2021-10-2T00:00:00Z_51.15733.312553.32635.8048_MODIS_Aqua_CorrectedReflectance_TrueColor.jpg\n",
      "Snapshot saved as ../../../figures/2021-10-3T00:00:00Z_51.15733.312553.32635.8048_MODIS_Aqua_CorrectedReflectance_TrueColor.jpg\n"
     ]
    }
   ],
   "source": [
    "from datetime import date, timedelta\n",
    "\n",
    "# Define the start and end dates\n",
    "start_date = date(2021, 9, 13)  # September 13, 2021\n",
    "end_date = date(2021, 10, 3)    # October 3, 2021\n",
    "\n",
    "# Iterate through the range of days\n",
    "current_date = start_date\n",
    "while current_date <= end_date:\n",
    "    modis_snapshot(time=f'{current_date.year}-{current_date.month}-{current_date.day}T00:00:00Z',\n",
    "                   layer_type='aqua',bbox=\"51.1573,3.3125,53.3263,5.8048\", folder_path='../../../figures')\n",
    "    current_date += timedelta(days=1)"
   ]
  },
  {
   "cell_type": "code",
   "execution_count": null,
   "metadata": {},
   "outputs": [],
   "source": []
  }
 ],
 "metadata": {
  "kernelspec": {
   "display_name": "orcestra_book",
   "language": "python",
   "name": "python3"
  },
  "language_info": {
   "codemirror_mode": {
    "name": "ipython",
    "version": 3
   },
   "file_extension": ".py",
   "mimetype": "text/x-python",
   "name": "python",
   "nbconvert_exporter": "python",
   "pygments_lexer": "ipython3",
   "version": "3.12.0"
  }
 },
 "nbformat": 4,
 "nbformat_minor": 2
}
